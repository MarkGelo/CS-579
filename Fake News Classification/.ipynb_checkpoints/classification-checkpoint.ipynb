{
 "cells": [
  {
   "cell_type": "code",
   "execution_count": 158,
   "metadata": {},
   "outputs": [],
   "source": [
    "import pandas as pd\n",
    "import numpy as np\n",
    "from sklearn.feature_extraction.text import CountVectorizer\n",
    "from sklearn.feature_extraction.text import TfidfVectorizer\n",
    "\n",
    "from sklearn.preprocessing import StandardScaler\n",
    "from sklearn.metrics import (accuracy_score, confusion_matrix, ConfusionMatrixDisplay)\n",
    "from sklearn.pipeline import Pipeline\n",
    "from sklearn.model_selection import (GridSearchCV, train_test_split)\n",
    "\n",
    "from sklearn.feature_selection import VarianceThreshold\n",
    "from sklearn.feature_selection import SelectFromModel\n",
    "from sklearn.linear_model import LogisticRegression\n",
    "from sklearn.ensemble import RandomForestClassifier\n",
    "from sklearn.svm import (LinearSVC, SVC)\n",
    "from sklearn.neighbors import NeighborhoodComponentsAnalysis\n",
    "from sklearn.neighbors import KNeighborsClassifier\n",
    "from sklearn.naive_bayes import MultinomialNB\n",
    "import lightgbm as lgbm\n",
    "from sklearn.preprocessing import OneHotEncoder\n",
    "\n",
    "from sklearn.metrics import f1_score\n",
    "import seaborn\n",
    "import matplotlib.pyplot as plt\n",
    "from sklearn.feature_selection import chi2\n",
    "from sklearn.feature_extraction.text import TfidfTransformer\n",
    "import nltk\n",
    "import re\n",
    "from nltk.stem import WordNetLemmatizer\n",
    "from nltk.tokenize import word_tokenize\n",
    "from scipy import sparse\n",
    "from sklearn.metrics.pairwise import cosine_similarity"
   ]
  },
  {
   "cell_type": "markdown",
   "metadata": {},
   "source": [
    "## Preprocessing"
   ]
  },
  {
   "cell_type": "code",
   "execution_count": 3,
   "metadata": {},
   "outputs": [],
   "source": [
    "train = pd.read_csv('data/train.csv')\n",
    "test = pd.read_csv('data/test.csv')"
   ]
  },
  {
   "cell_type": "code",
   "execution_count": 4,
   "metadata": {
    "scrolled": true
   },
   "outputs": [
    {
     "data": {
      "text/html": [
       "<div>\n",
       "<style scoped>\n",
       "    .dataframe tbody tr th:only-of-type {\n",
       "        vertical-align: middle;\n",
       "    }\n",
       "\n",
       "    .dataframe tbody tr th {\n",
       "        vertical-align: top;\n",
       "    }\n",
       "\n",
       "    .dataframe thead th {\n",
       "        text-align: right;\n",
       "    }\n",
       "</style>\n",
       "<table border=\"1\" class=\"dataframe\">\n",
       "  <thead>\n",
       "    <tr style=\"text-align: right;\">\n",
       "      <th></th>\n",
       "      <th>id</th>\n",
       "      <th>tid1</th>\n",
       "      <th>tid2</th>\n",
       "      <th>title1_en</th>\n",
       "      <th>title2_en</th>\n",
       "      <th>label</th>\n",
       "    </tr>\n",
       "  </thead>\n",
       "  <tbody>\n",
       "    <tr>\n",
       "      <th>0</th>\n",
       "      <td>195611</td>\n",
       "      <td>0</td>\n",
       "      <td>1</td>\n",
       "      <td>There are two new old-age insurance benefits f...</td>\n",
       "      <td>Police disprove \"bird's nest congress each per...</td>\n",
       "      <td>unrelated</td>\n",
       "    </tr>\n",
       "    <tr>\n",
       "      <th>1</th>\n",
       "      <td>191474</td>\n",
       "      <td>2</td>\n",
       "      <td>3</td>\n",
       "      <td>\"If you do not come to Shenzhen, sooner or lat...</td>\n",
       "      <td>Shenzhen's GDP outstrips Hong Kong? Shenzhen S...</td>\n",
       "      <td>unrelated</td>\n",
       "    </tr>\n",
       "    <tr>\n",
       "      <th>2</th>\n",
       "      <td>25300</td>\n",
       "      <td>2</td>\n",
       "      <td>4</td>\n",
       "      <td>\"If you do not come to Shenzhen, sooner or lat...</td>\n",
       "      <td>The GDP overtopped Hong Kong? Shenzhen clarifi...</td>\n",
       "      <td>unrelated</td>\n",
       "    </tr>\n",
       "    <tr>\n",
       "      <th>3</th>\n",
       "      <td>123757</td>\n",
       "      <td>2</td>\n",
       "      <td>8</td>\n",
       "      <td>\"If you do not come to Shenzhen, sooner or lat...</td>\n",
       "      <td>Shenzhen's GDP overtakes Hong Kong? Bureau of ...</td>\n",
       "      <td>unrelated</td>\n",
       "    </tr>\n",
       "    <tr>\n",
       "      <th>4</th>\n",
       "      <td>141761</td>\n",
       "      <td>2</td>\n",
       "      <td>11</td>\n",
       "      <td>\"If you do not come to Shenzhen, sooner or lat...</td>\n",
       "      <td>Shenzhen's GDP outpaces Hong Kong? Defending R...</td>\n",
       "      <td>unrelated</td>\n",
       "    </tr>\n",
       "    <tr>\n",
       "      <th>...</th>\n",
       "      <td>...</td>\n",
       "      <td>...</td>\n",
       "      <td>...</td>\n",
       "      <td>...</td>\n",
       "      <td>...</td>\n",
       "      <td>...</td>\n",
       "    </tr>\n",
       "    <tr>\n",
       "      <th>256437</th>\n",
       "      <td>113364</td>\n",
       "      <td>167562</td>\n",
       "      <td>48447</td>\n",
       "      <td>egypt 's presidential election failed to win m...</td>\n",
       "      <td>Salah is retiring? Football Association offici...</td>\n",
       "      <td>unrelated</td>\n",
       "    </tr>\n",
       "    <tr>\n",
       "      <th>256438</th>\n",
       "      <td>49407</td>\n",
       "      <td>167562</td>\n",
       "      <td>49795</td>\n",
       "      <td>egypt 's presidential election failed to win m...</td>\n",
       "      <td>Liverpool's bid for Little Germany? The Echo's...</td>\n",
       "      <td>unrelated</td>\n",
       "    </tr>\n",
       "    <tr>\n",
       "      <th>256439</th>\n",
       "      <td>130134</td>\n",
       "      <td>167562</td>\n",
       "      <td>114783</td>\n",
       "      <td>egypt 's presidential election failed to win m...</td>\n",
       "      <td>West Media Exposing Tallahlach has been recomm...</td>\n",
       "      <td>unrelated</td>\n",
       "    </tr>\n",
       "    <tr>\n",
       "      <th>256440</th>\n",
       "      <td>101494</td>\n",
       "      <td>167562</td>\n",
       "      <td>137705</td>\n",
       "      <td>egypt 's presidential election failed to win m...</td>\n",
       "      <td>Rumor has it that Egypt is very united and the...</td>\n",
       "      <td>unrelated</td>\n",
       "    </tr>\n",
       "    <tr>\n",
       "      <th>256441</th>\n",
       "      <td>89356</td>\n",
       "      <td>167563</td>\n",
       "      <td>66480</td>\n",
       "      <td>Will the United States wage war on Iraq withou...</td>\n",
       "      <td>Saddam's daughter refutes rumors: no. 2 of Sad...</td>\n",
       "      <td>unrelated</td>\n",
       "    </tr>\n",
       "  </tbody>\n",
       "</table>\n",
       "<p>256442 rows × 6 columns</p>\n",
       "</div>"
      ],
      "text/plain": [
       "            id    tid1    tid2  \\\n",
       "0       195611       0       1   \n",
       "1       191474       2       3   \n",
       "2        25300       2       4   \n",
       "3       123757       2       8   \n",
       "4       141761       2      11   \n",
       "...        ...     ...     ...   \n",
       "256437  113364  167562   48447   \n",
       "256438   49407  167562   49795   \n",
       "256439  130134  167562  114783   \n",
       "256440  101494  167562  137705   \n",
       "256441   89356  167563   66480   \n",
       "\n",
       "                                                title1_en  \\\n",
       "0       There are two new old-age insurance benefits f...   \n",
       "1       \"If you do not come to Shenzhen, sooner or lat...   \n",
       "2       \"If you do not come to Shenzhen, sooner or lat...   \n",
       "3       \"If you do not come to Shenzhen, sooner or lat...   \n",
       "4       \"If you do not come to Shenzhen, sooner or lat...   \n",
       "...                                                   ...   \n",
       "256437  egypt 's presidential election failed to win m...   \n",
       "256438  egypt 's presidential election failed to win m...   \n",
       "256439  egypt 's presidential election failed to win m...   \n",
       "256440  egypt 's presidential election failed to win m...   \n",
       "256441  Will the United States wage war on Iraq withou...   \n",
       "\n",
       "                                                title2_en      label  \n",
       "0       Police disprove \"bird's nest congress each per...  unrelated  \n",
       "1       Shenzhen's GDP outstrips Hong Kong? Shenzhen S...  unrelated  \n",
       "2       The GDP overtopped Hong Kong? Shenzhen clarifi...  unrelated  \n",
       "3       Shenzhen's GDP overtakes Hong Kong? Bureau of ...  unrelated  \n",
       "4       Shenzhen's GDP outpaces Hong Kong? Defending R...  unrelated  \n",
       "...                                                   ...        ...  \n",
       "256437  Salah is retiring? Football Association offici...  unrelated  \n",
       "256438  Liverpool's bid for Little Germany? The Echo's...  unrelated  \n",
       "256439  West Media Exposing Tallahlach has been recomm...  unrelated  \n",
       "256440  Rumor has it that Egypt is very united and the...  unrelated  \n",
       "256441  Saddam's daughter refutes rumors: no. 2 of Sad...  unrelated  \n",
       "\n",
       "[256442 rows x 6 columns]"
      ]
     },
     "execution_count": 4,
     "metadata": {},
     "output_type": "execute_result"
    }
   ],
   "source": [
    "train"
   ]
  },
  {
   "cell_type": "code",
   "execution_count": 5,
   "metadata": {
    "scrolled": true
   },
   "outputs": [
    {
     "data": {
      "text/html": [
       "<div>\n",
       "<style scoped>\n",
       "    .dataframe tbody tr th:only-of-type {\n",
       "        vertical-align: middle;\n",
       "    }\n",
       "\n",
       "    .dataframe tbody tr th {\n",
       "        vertical-align: top;\n",
       "    }\n",
       "\n",
       "    .dataframe thead th {\n",
       "        text-align: right;\n",
       "    }\n",
       "</style>\n",
       "<table border=\"1\" class=\"dataframe\">\n",
       "  <thead>\n",
       "    <tr style=\"text-align: right;\">\n",
       "      <th></th>\n",
       "      <th>id</th>\n",
       "      <th>tid1</th>\n",
       "      <th>tid2</th>\n",
       "      <th>title1_en</th>\n",
       "      <th>title2_en</th>\n",
       "    </tr>\n",
       "  </thead>\n",
       "  <tbody>\n",
       "    <tr>\n",
       "      <th>0</th>\n",
       "      <td>256442</td>\n",
       "      <td>100672</td>\n",
       "      <td>100673</td>\n",
       "      <td>The great coat brother Zhu Zhu Wen, in the man...</td>\n",
       "      <td>Lin xinsheng after the birth of \"hard milking,...</td>\n",
       "    </tr>\n",
       "    <tr>\n",
       "      <th>1</th>\n",
       "      <td>256443</td>\n",
       "      <td>162269</td>\n",
       "      <td>162270</td>\n",
       "      <td>NASA reveals facts about UFO wreckage found on...</td>\n",
       "      <td>The UFO found in Yuancun, Jiaocheng County, Sh...</td>\n",
       "    </tr>\n",
       "    <tr>\n",
       "      <th>2</th>\n",
       "      <td>256444</td>\n",
       "      <td>157826</td>\n",
       "      <td>157854</td>\n",
       "      <td>The hollow tomatoes are loaded with hormones.</td>\n",
       "      <td>Li chenfan bingbing home photos, netizen: this...</td>\n",
       "    </tr>\n",
       "    <tr>\n",
       "      <th>3</th>\n",
       "      <td>256445</td>\n",
       "      <td>109579</td>\n",
       "      <td>74076</td>\n",
       "      <td>Ange Pavilion Geoshui: How accurate is Matrimo...</td>\n",
       "      <td>Master one: the eight-character presumption of...</td>\n",
       "    </tr>\n",
       "    <tr>\n",
       "      <th>4</th>\n",
       "      <td>256446</td>\n",
       "      <td>15068</td>\n",
       "      <td>15085</td>\n",
       "      <td>A 50-year-old bus-bus blows up an 8-year-old c...</td>\n",
       "      <td>&lt; i &gt; Joe Johnson's disgruntled timing and ord...</td>\n",
       "    </tr>\n",
       "    <tr>\n",
       "      <th>...</th>\n",
       "      <td>...</td>\n",
       "      <td>...</td>\n",
       "      <td>...</td>\n",
       "      <td>...</td>\n",
       "      <td>...</td>\n",
       "    </tr>\n",
       "    <tr>\n",
       "      <th>64105</th>\n",
       "      <td>320547</td>\n",
       "      <td>94862</td>\n",
       "      <td>94863</td>\n",
       "      <td>The lead content of domestic faucet exceeds th...</td>\n",
       "      <td>The multi-brand faucet is overtaxed, who is en...</td>\n",
       "    </tr>\n",
       "    <tr>\n",
       "      <th>64106</th>\n",
       "      <td>320548</td>\n",
       "      <td>7451</td>\n",
       "      <td>7452</td>\n",
       "      <td>In 2018, the household registration system has...</td>\n",
       "      <td>In 2018, the household registration system wil...</td>\n",
       "    </tr>\n",
       "    <tr>\n",
       "      <th>64107</th>\n",
       "      <td>320549</td>\n",
       "      <td>144163</td>\n",
       "      <td>144164</td>\n",
       "      <td>Onion can not be eaten with this, serious also...</td>\n",
       "      <td>Onion can not eat with this, serious also can ...</td>\n",
       "    </tr>\n",
       "    <tr>\n",
       "      <th>64108</th>\n",
       "      <td>320550</td>\n",
       "      <td>96842</td>\n",
       "      <td>96856</td>\n",
       "      <td>Grass-root teacher salaries, the last increase...</td>\n",
       "      <td>Teachers wage reform, there will be these thre...</td>\n",
       "    </tr>\n",
       "    <tr>\n",
       "      <th>64109</th>\n",
       "      <td>320551</td>\n",
       "      <td>137151</td>\n",
       "      <td>132243</td>\n",
       "      <td>Li Weijia Weeping, Crying, Drugs? Sick? See ho...</td>\n",
       "      <td>Li Weijia on the hot air, netizens: Li Weijia ...</td>\n",
       "    </tr>\n",
       "  </tbody>\n",
       "</table>\n",
       "<p>64110 rows × 5 columns</p>\n",
       "</div>"
      ],
      "text/plain": [
       "           id    tid1    tid2  \\\n",
       "0      256442  100672  100673   \n",
       "1      256443  162269  162270   \n",
       "2      256444  157826  157854   \n",
       "3      256445  109579   74076   \n",
       "4      256446   15068   15085   \n",
       "...       ...     ...     ...   \n",
       "64105  320547   94862   94863   \n",
       "64106  320548    7451    7452   \n",
       "64107  320549  144163  144164   \n",
       "64108  320550   96842   96856   \n",
       "64109  320551  137151  132243   \n",
       "\n",
       "                                               title1_en  \\\n",
       "0      The great coat brother Zhu Zhu Wen, in the man...   \n",
       "1      NASA reveals facts about UFO wreckage found on...   \n",
       "2          The hollow tomatoes are loaded with hormones.   \n",
       "3      Ange Pavilion Geoshui: How accurate is Matrimo...   \n",
       "4      A 50-year-old bus-bus blows up an 8-year-old c...   \n",
       "...                                                  ...   \n",
       "64105  The lead content of domestic faucet exceeds th...   \n",
       "64106  In 2018, the household registration system has...   \n",
       "64107  Onion can not be eaten with this, serious also...   \n",
       "64108  Grass-root teacher salaries, the last increase...   \n",
       "64109  Li Weijia Weeping, Crying, Drugs? Sick? See ho...   \n",
       "\n",
       "                                               title2_en  \n",
       "0      Lin xinsheng after the birth of \"hard milking,...  \n",
       "1      The UFO found in Yuancun, Jiaocheng County, Sh...  \n",
       "2      Li chenfan bingbing home photos, netizen: this...  \n",
       "3      Master one: the eight-character presumption of...  \n",
       "4      < i > Joe Johnson's disgruntled timing and ord...  \n",
       "...                                                  ...  \n",
       "64105  The multi-brand faucet is overtaxed, who is en...  \n",
       "64106  In 2018, the household registration system wil...  \n",
       "64107  Onion can not eat with this, serious also can ...  \n",
       "64108  Teachers wage reform, there will be these thre...  \n",
       "64109  Li Weijia on the hot air, netizens: Li Weijia ...  \n",
       "\n",
       "[64110 rows x 5 columns]"
      ]
     },
     "execution_count": 5,
     "metadata": {},
     "output_type": "execute_result"
    }
   ],
   "source": [
    "test"
   ]
  },
  {
   "cell_type": "code",
   "execution_count": 6,
   "metadata": {},
   "outputs": [
    {
     "data": {
      "text/plain": [
       "unrelated    175598\n",
       "agreed        74238\n",
       "disagreed      6606\n",
       "Name: label, dtype: int64"
      ]
     },
     "execution_count": 6,
     "metadata": {},
     "output_type": "execute_result"
    }
   ],
   "source": [
    "train['label'].value_counts()"
   ]
  },
  {
   "cell_type": "code",
   "execution_count": 54,
   "metadata": {},
   "outputs": [],
   "source": [
    "def process(title):\n",
    "    punctuations = '''!\"$%&'()*+,./:;<=>?[\\]^_`{|}~#@'''\n",
    "    title = title.lower()\n",
    "    # remove punctuations -- not # or @ cuz hashtag and @ someone\n",
    "    # nvm seems like already separated # and @ in csv. so hard to see if actually hashtag or whatever\n",
    "    title = \"\".join([c for c in title if c not in punctuations])\n",
    "    # - in word, separate them\n",
    "    title = title.replace(\"-\", \" \")\n",
    "    # remove extra spaces\n",
    "    title = \" \".join(title.split())\n",
    "    # tokenize\n",
    "    title = word_tokenize(title)\n",
    "    # lemmatize\n",
    "    lemma = WordNetLemmatizer()\n",
    "    title = \" \".join([lemma.lemmatize(w) for w in title])\n",
    "    \n",
    "    return title\n"
   ]
  },
  {
   "cell_type": "code",
   "execution_count": 57,
   "metadata": {},
   "outputs": [
    {
     "name": "stdout",
     "output_type": "stream",
     "text": [
      "if you do not come to shenzhen sooner or later your son will also come in le than 10 year shenzhen per caput gdp will exceed hong kong\n"
     ]
    }
   ],
   "source": [
    "print(process(train['title1_en'][1]))"
   ]
  },
  {
   "cell_type": "code",
   "execution_count": 63,
   "metadata": {},
   "outputs": [],
   "source": [
    "train['title1'] = train['title1_en'].apply(process)\n",
    "train['title2'] = train['title2_en'].apply(process)\n",
    "test['title1'] = test['title1_en'].apply(process)\n",
    "test['title2'] = test['title2_en'].apply(process)"
   ]
  },
  {
   "cell_type": "code",
   "execution_count": 68,
   "metadata": {},
   "outputs": [
    {
     "data": {
      "text/html": [
       "<div>\n",
       "<style scoped>\n",
       "    .dataframe tbody tr th:only-of-type {\n",
       "        vertical-align: middle;\n",
       "    }\n",
       "\n",
       "    .dataframe tbody tr th {\n",
       "        vertical-align: top;\n",
       "    }\n",
       "\n",
       "    .dataframe thead th {\n",
       "        text-align: right;\n",
       "    }\n",
       "</style>\n",
       "<table border=\"1\" class=\"dataframe\">\n",
       "  <thead>\n",
       "    <tr style=\"text-align: right;\">\n",
       "      <th></th>\n",
       "      <th>title1</th>\n",
       "      <th>title2</th>\n",
       "      <th>label</th>\n",
       "    </tr>\n",
       "  </thead>\n",
       "  <tbody>\n",
       "    <tr>\n",
       "      <th>0</th>\n",
       "      <td>there are two new old age insurance benefit fo...</td>\n",
       "      <td>police disprove bird nest congress each person...</td>\n",
       "      <td>unrelated</td>\n",
       "    </tr>\n",
       "    <tr>\n",
       "      <th>1</th>\n",
       "      <td>if you do not come to shenzhen sooner or later...</td>\n",
       "      <td>shenzhens gdp outstrips hong kong shenzhen sta...</td>\n",
       "      <td>unrelated</td>\n",
       "    </tr>\n",
       "    <tr>\n",
       "      <th>2</th>\n",
       "      <td>if you do not come to shenzhen sooner or later...</td>\n",
       "      <td>the gdp overtopped hong kong shenzhen clarifie...</td>\n",
       "      <td>unrelated</td>\n",
       "    </tr>\n",
       "    <tr>\n",
       "      <th>3</th>\n",
       "      <td>if you do not come to shenzhen sooner or later...</td>\n",
       "      <td>shenzhens gdp overtakes hong kong bureau of st...</td>\n",
       "      <td>unrelated</td>\n",
       "    </tr>\n",
       "    <tr>\n",
       "      <th>4</th>\n",
       "      <td>if you do not come to shenzhen sooner or later...</td>\n",
       "      <td>shenzhens gdp outpaces hong kong defending rum...</td>\n",
       "      <td>unrelated</td>\n",
       "    </tr>\n",
       "    <tr>\n",
       "      <th>...</th>\n",
       "      <td>...</td>\n",
       "      <td>...</td>\n",
       "      <td>...</td>\n",
       "    </tr>\n",
       "    <tr>\n",
       "      <th>256437</th>\n",
       "      <td>egypt s presidential election failed to win mi...</td>\n",
       "      <td>salah is retiring football association officia...</td>\n",
       "      <td>unrelated</td>\n",
       "    </tr>\n",
       "    <tr>\n",
       "      <th>256438</th>\n",
       "      <td>egypt s presidential election failed to win mi...</td>\n",
       "      <td>liverpool bid for little germany the echo disc...</td>\n",
       "      <td>unrelated</td>\n",
       "    </tr>\n",
       "    <tr>\n",
       "      <th>256439</th>\n",
       "      <td>egypt s presidential election failed to win mi...</td>\n",
       "      <td>west medium exposing tallahlach ha been recomm...</td>\n",
       "      <td>unrelated</td>\n",
       "    </tr>\n",
       "    <tr>\n",
       "      <th>256440</th>\n",
       "      <td>egypt s presidential election failed to win mi...</td>\n",
       "      <td>rumor ha it that egypt is very united and ther...</td>\n",
       "      <td>unrelated</td>\n",
       "    </tr>\n",
       "    <tr>\n",
       "      <th>256441</th>\n",
       "      <td>will the united state wage war on iraq without...</td>\n",
       "      <td>saddam daughter refutes rumor no 2 of saddam r...</td>\n",
       "      <td>unrelated</td>\n",
       "    </tr>\n",
       "  </tbody>\n",
       "</table>\n",
       "<p>256442 rows × 3 columns</p>\n",
       "</div>"
      ],
      "text/plain": [
       "                                                   title1  \\\n",
       "0       there are two new old age insurance benefit fo...   \n",
       "1       if you do not come to shenzhen sooner or later...   \n",
       "2       if you do not come to shenzhen sooner or later...   \n",
       "3       if you do not come to shenzhen sooner or later...   \n",
       "4       if you do not come to shenzhen sooner or later...   \n",
       "...                                                   ...   \n",
       "256437  egypt s presidential election failed to win mi...   \n",
       "256438  egypt s presidential election failed to win mi...   \n",
       "256439  egypt s presidential election failed to win mi...   \n",
       "256440  egypt s presidential election failed to win mi...   \n",
       "256441  will the united state wage war on iraq without...   \n",
       "\n",
       "                                                   title2      label  \n",
       "0       police disprove bird nest congress each person...  unrelated  \n",
       "1       shenzhens gdp outstrips hong kong shenzhen sta...  unrelated  \n",
       "2       the gdp overtopped hong kong shenzhen clarifie...  unrelated  \n",
       "3       shenzhens gdp overtakes hong kong bureau of st...  unrelated  \n",
       "4       shenzhens gdp outpaces hong kong defending rum...  unrelated  \n",
       "...                                                   ...        ...  \n",
       "256437  salah is retiring football association officia...  unrelated  \n",
       "256438  liverpool bid for little germany the echo disc...  unrelated  \n",
       "256439  west medium exposing tallahlach ha been recomm...  unrelated  \n",
       "256440  rumor ha it that egypt is very united and ther...  unrelated  \n",
       "256441  saddam daughter refutes rumor no 2 of saddam r...  unrelated  \n",
       "\n",
       "[256442 rows x 3 columns]"
      ]
     },
     "execution_count": 68,
     "metadata": {},
     "output_type": "execute_result"
    }
   ],
   "source": [
    "train[['title1', 'title2', 'label']]"
   ]
  },
  {
   "cell_type": "code",
   "execution_count": 69,
   "metadata": {},
   "outputs": [
    {
     "data": {
      "text/html": [
       "<div>\n",
       "<style scoped>\n",
       "    .dataframe tbody tr th:only-of-type {\n",
       "        vertical-align: middle;\n",
       "    }\n",
       "\n",
       "    .dataframe tbody tr th {\n",
       "        vertical-align: top;\n",
       "    }\n",
       "\n",
       "    .dataframe thead th {\n",
       "        text-align: right;\n",
       "    }\n",
       "</style>\n",
       "<table border=\"1\" class=\"dataframe\">\n",
       "  <thead>\n",
       "    <tr style=\"text-align: right;\">\n",
       "      <th></th>\n",
       "      <th>title1</th>\n",
       "      <th>title2</th>\n",
       "    </tr>\n",
       "  </thead>\n",
       "  <tbody>\n",
       "    <tr>\n",
       "      <th>0</th>\n",
       "      <td>the great coat brother zhu zhu wen in the mand...</td>\n",
       "      <td>lin xinsheng after the birth of hard milking h...</td>\n",
       "    </tr>\n",
       "    <tr>\n",
       "      <th>1</th>\n",
       "      <td>nasa reveals fact about ufo wreckage found on ...</td>\n",
       "      <td>the ufo found in yuancun jiaocheng county shan...</td>\n",
       "    </tr>\n",
       "    <tr>\n",
       "      <th>2</th>\n",
       "      <td>the hollow tomato are loaded with hormone</td>\n",
       "      <td>li chenfan bingbing home photo netizen this is...</td>\n",
       "    </tr>\n",
       "    <tr>\n",
       "      <th>3</th>\n",
       "      <td>ange pavilion geoshui how accurate is matrimon...</td>\n",
       "      <td>master one the eight character presumption of ...</td>\n",
       "    </tr>\n",
       "    <tr>\n",
       "      <th>4</th>\n",
       "      <td>a 50 year old bus bus blow up an 8 year old ch...</td>\n",
       "      <td>i joe johnson disgruntled timing and order wa ...</td>\n",
       "    </tr>\n",
       "    <tr>\n",
       "      <th>...</th>\n",
       "      <td>...</td>\n",
       "      <td>...</td>\n",
       "    </tr>\n",
       "    <tr>\n",
       "      <th>64105</th>\n",
       "      <td>the lead content of domestic faucet exceeds th...</td>\n",
       "      <td>the multi brand faucet is overtaxed who is end...</td>\n",
       "    </tr>\n",
       "    <tr>\n",
       "      <th>64106</th>\n",
       "      <td>in 2018 the household registration system ha c...</td>\n",
       "      <td>in 2018 the household registration system will...</td>\n",
       "    </tr>\n",
       "    <tr>\n",
       "      <th>64107</th>\n",
       "      <td>onion can not be eaten with this serious also ...</td>\n",
       "      <td>onion can not eat with this serious also can c...</td>\n",
       "    </tr>\n",
       "    <tr>\n",
       "      <th>64108</th>\n",
       "      <td>grass root teacher salary the last increase be...</td>\n",
       "      <td>teacher wage reform there will be these three ...</td>\n",
       "    </tr>\n",
       "    <tr>\n",
       "      <th>64109</th>\n",
       "      <td>li weijia weeping cry drug sick see how he res...</td>\n",
       "      <td>li weijia on the hot air netizens li weijia an...</td>\n",
       "    </tr>\n",
       "  </tbody>\n",
       "</table>\n",
       "<p>64110 rows × 2 columns</p>\n",
       "</div>"
      ],
      "text/plain": [
       "                                                  title1  \\\n",
       "0      the great coat brother zhu zhu wen in the mand...   \n",
       "1      nasa reveals fact about ufo wreckage found on ...   \n",
       "2              the hollow tomato are loaded with hormone   \n",
       "3      ange pavilion geoshui how accurate is matrimon...   \n",
       "4      a 50 year old bus bus blow up an 8 year old ch...   \n",
       "...                                                  ...   \n",
       "64105  the lead content of domestic faucet exceeds th...   \n",
       "64106  in 2018 the household registration system ha c...   \n",
       "64107  onion can not be eaten with this serious also ...   \n",
       "64108  grass root teacher salary the last increase be...   \n",
       "64109  li weijia weeping cry drug sick see how he res...   \n",
       "\n",
       "                                                  title2  \n",
       "0      lin xinsheng after the birth of hard milking h...  \n",
       "1      the ufo found in yuancun jiaocheng county shan...  \n",
       "2      li chenfan bingbing home photo netizen this is...  \n",
       "3      master one the eight character presumption of ...  \n",
       "4      i joe johnson disgruntled timing and order wa ...  \n",
       "...                                                  ...  \n",
       "64105  the multi brand faucet is overtaxed who is end...  \n",
       "64106  in 2018 the household registration system will...  \n",
       "64107  onion can not eat with this serious also can c...  \n",
       "64108  teacher wage reform there will be these three ...  \n",
       "64109  li weijia on the hot air netizens li weijia an...  \n",
       "\n",
       "[64110 rows x 2 columns]"
      ]
     },
     "execution_count": 69,
     "metadata": {},
     "output_type": "execute_result"
    }
   ],
   "source": [
    "test[['title1', 'title2']]"
   ]
  },
  {
   "cell_type": "code",
   "execution_count": 73,
   "metadata": {},
   "outputs": [],
   "source": [
    "train.to_csv('TRAIN.csv', index = False)\n",
    "test.to_csv('TEST.csv', index = False)"
   ]
  },
  {
   "cell_type": "markdown",
   "metadata": {},
   "source": [
    "## Modeling"
   ]
  },
  {
   "cell_type": "markdown",
   "metadata": {},
   "source": [
    "-bag of words or tf-idf\n",
    "\n",
    "-lemmatization + n-grams\n",
    "\n",
    "-ngrams tf-idf n > 1"
   ]
  },
  {
   "cell_type": "code",
   "execution_count": 229,
   "metadata": {},
   "outputs": [],
   "source": [
    "TRAIN = pd.read_csv('data/train.csv')\n",
    "TEST = pd.read_csv('data/test.csv')\n",
    "\n",
    "# remove na titles\n",
    "TRAIN = TRAIN[TRAIN['title1'].notna()]\n",
    "TRAIN = TRAIN[TRAIN['title2'].notna()]\n",
    "TRAIN_LABEL = TRAIN['label']\n",
    "TEST['title1'] = TEST['title1'].fillna(\"0\")\n",
    "TEST['title2'] = TEST['title2'].fillna(\"0\")"
   ]
  },
  {
   "cell_type": "code",
   "execution_count": 216,
   "metadata": {},
   "outputs": [],
   "source": [
    "# 70% train and 30% test from TRAIN dataset - for my one testing\n",
    "train, test, train_label, test_label = train_test_split(TRAIN[['title1', 'title2']], TRAIN['label'], \n",
    "                                                            test_size = 0.3, random_state = 22, \n",
    "                                                            stratify = TRAIN['label'])"
   ]
  },
  {
   "cell_type": "code",
   "execution_count": 217,
   "metadata": {},
   "outputs": [
    {
     "data": {
      "text/plain": [
       "unrelated    122904\n",
       "agreed        51957\n",
       "disagreed      4624\n",
       "Name: label, dtype: int64"
      ]
     },
     "execution_count": 217,
     "metadata": {},
     "output_type": "execute_result"
    }
   ],
   "source": [
    "train_label.value_counts()"
   ]
  },
  {
   "cell_type": "markdown",
   "metadata": {},
   "source": [
    "### Baseline"
   ]
  },
  {
   "cell_type": "code",
   "execution_count": 218,
   "metadata": {
    "scrolled": true
   },
   "outputs": [
    {
     "data": {
      "text/plain": [
       "100684    specialist after the summer month eat more san...\n",
       "81933     jingdong white stripe to cash out reliable mer...\n",
       "132756    what are the benefit of eating sweet potato an...\n",
       "63323     dont eat with the meat the top five taboo to k...\n",
       "242469    diabetic nephrotic diet taboo diabetic nephros...\n",
       "                                ...                        \n",
       "192228    how to control your blood sugar a cup of green...\n",
       "52150     the 1 coin is worth 2000 to 10000 let see if t...\n",
       "200400    exposing the oppo r11 to start the month episo...\n",
       "64572     childrens soy sauce specially developed is goo...\n",
       "45361     a woman died of 2sb 500 virus from a woman in ...\n",
       "Name: title1, Length: 179485, dtype: object"
      ]
     },
     "execution_count": 218,
     "metadata": {},
     "output_type": "execute_result"
    }
   ],
   "source": [
    "train['title1']"
   ]
  },
  {
   "cell_type": "code",
   "execution_count": 219,
   "metadata": {},
   "outputs": [],
   "source": [
    "# Vocabulary for whole set\n",
    "cv = CountVectorizer()\n",
    "titles = TRAIN['title1'].append(TRAIN['title2']).append(TEST['title1']).append(TEST['title2'])\n",
    "count = cv.fit_transform(titles)\n",
    "vocab = list(cv.vocabulary_.keys())\n",
    "cv = CountVectorizer(vocabulary = vocab)"
   ]
  },
  {
   "cell_type": "code",
   "execution_count": 220,
   "metadata": {},
   "outputs": [],
   "source": [
    "# bag of words\n",
    "#cv = CountVectorizer()\n",
    "title1_train = cv.fit_transform(train['title1'])\n",
    "title2_train = cv.fit_transform(train['title2'])\n",
    "title1_test = cv.fit_transform(test['title1'])\n",
    "title2_test = cv.fit_transform(test['title2'])"
   ]
  },
  {
   "cell_type": "code",
   "execution_count": 221,
   "metadata": {},
   "outputs": [
    {
     "name": "stdout",
     "output_type": "stream",
     "text": [
      "Multinomial Naive Bayes Accuracy: 0.7309517309517309 | F1 Score: 0.737345471184697\n"
     ]
    },
    {
     "name": "stderr",
     "output_type": "stream",
     "text": [
      "C:\\Users\\Gelo\\anaconda3\\lib\\site-packages\\sklearn\\svm\\_base.py:976: ConvergenceWarning: Liblinear failed to converge, increase the number of iterations.\n",
      "  warnings.warn(\"Liblinear failed to converge, increase \"\n"
     ]
    },
    {
     "name": "stdout",
     "output_type": "stream",
     "text": [
      "SVC Accuracy:: 0.792974792974793 | F1 Score: 0.7968560934921357\n"
     ]
    },
    {
     "name": "stderr",
     "output_type": "stream",
     "text": [
      "C:\\Users\\Gelo\\anaconda3\\lib\\site-packages\\sklearn\\linear_model\\_logistic.py:762: ConvergenceWarning: lbfgs failed to converge (status=1):\n",
      "STOP: TOTAL NO. of ITERATIONS REACHED LIMIT.\n",
      "\n",
      "Increase the number of iterations (max_iter) or scale the data as shown in:\n",
      "    https://scikit-learn.org/stable/modules/preprocessing.html\n",
      "Please also refer to the documentation for alternative solver options:\n",
      "    https://scikit-learn.org/stable/modules/linear_model.html#logistic-regression\n",
      "  n_iter_i = _check_optimize_result(\n"
     ]
    },
    {
     "name": "stdout",
     "output_type": "stream",
     "text": [
      "Logistic Regression Accuracy: 0.7628407628407629 | F1 Score: 0.7727578108282027\n"
     ]
    }
   ],
   "source": [
    "BAG_TRAIN = sparse.hstack([title1_train, title2_train])\n",
    "BAG_TEST = sparse.hstack([title1_test, title2_test])\n",
    "\n",
    "clf = MultinomialNB()\n",
    "clf.fit(BAG_TRAIN, train_label)\n",
    "test_pred = clf.predict(BAG_TEST)\n",
    "print('Multinomial Naive Bayes Accuracy:', clf.score(BAG_TEST, test_label), '| F1 Score:', f1_score(test_label, test_pred, average = 'weighted'))\n",
    "\n",
    "#clf = KNeighborsClassifier()\n",
    "#clf.fit(BAG_TRAIN, train_label)\n",
    "#test_pred = clf.predict(BAG_TEST)\n",
    "#print('KNeighbors Accuracy:', clf.score(BAG_TEST, test_label), '| F1 Score:', f1_score(test_label, test_pred, average = 'weighted'))\n",
    "\n",
    "clf = LinearSVC(class_weight = 'balanced', random_state = 22, max_iter = 1000)\n",
    "clf.fit(BAG_TRAIN, train_label)\n",
    "test_pred = clf.predict(BAG_TEST)\n",
    "print('SVC Accuracy::', clf.score(BAG_TEST, test_label), '| F1 Score:', f1_score(test_label, test_pred, average = 'weighted'))\n",
    "\n",
    "#clf = RandomForestClassifier(n_estimators = 222, random_state = 22)\n",
    "#clf.fit(BAG_TRAIN, train_label)\n",
    "#test_pred = clf.predict(BAG_TEST)\n",
    "#print('Random Forest Accuracy:', clf.score(BAG_TEST, test_label), '| F1 Score:', f1_score(test_label, test_pred, average = 'weighted'))\n",
    "\n",
    "clf = LogisticRegression(class_weight = 'balanced', random_state = 22, max_iter = 500)\n",
    "clf.fit(BAG_TRAIN, train_label)\n",
    "test_pred = clf.predict(BAG_TEST)\n",
    "print('Logistic Regression Accuracy:', clf.score(BAG_TEST, test_label), '| F1 Score:', f1_score(test_label, test_pred, average = 'weighted'))"
   ]
  },
  {
   "cell_type": "code",
   "execution_count": 222,
   "metadata": {},
   "outputs": [],
   "source": [
    "#tfidf\n",
    "tf = TfidfTransformer()\n",
    "title1_train_tf = tf.fit_transform(title1_train)\n",
    "title2_train_tf = tf.fit_transform(title2_train)\n",
    "title1_test_tf = tf.fit_transform(title1_test)\n",
    "title2_test_tf = tf.fit_transform(title2_test)"
   ]
  },
  {
   "cell_type": "code",
   "execution_count": 223,
   "metadata": {
    "scrolled": true
   },
   "outputs": [
    {
     "name": "stdout",
     "output_type": "stream",
     "text": [
      "Multinomial Naive Bayes Accuracy: 0.7634647634647634 | F1 Score: 0.7426080650214859\n",
      "SVC Accuracy:: 0.7968097968097968 | F1 Score: 0.8001846169438543\n",
      "Logistic Regression Accuracy: 0.7377507377507377 | F1 Score: 0.750274175924867\n"
     ]
    }
   ],
   "source": [
    "TF_TRAIN = sparse.hstack([title1_train_tf, title2_train_tf])\n",
    "TF_TEST = sparse.hstack([title1_test_tf, title2_test_tf])\n",
    "\n",
    "clf = MultinomialNB()\n",
    "clf.fit(TF_TRAIN, train_label)\n",
    "test_pred = clf.predict(TF_TEST)\n",
    "print('Multinomial Naive Bayes Accuracy:', clf.score(TF_TEST, test_label), '| F1 Score:', f1_score(test_label, test_pred, average = 'weighted'))\n",
    "\n",
    "clf = LinearSVC(class_weight = 'balanced', random_state = 22, max_iter = 1000)\n",
    "clf.fit(TF_TRAIN, train_label)\n",
    "test_pred = clf.predict(TF_TEST)\n",
    "print('SVC Accuracy::', clf.score(TF_TEST, test_label), '| F1 Score:', f1_score(test_label, test_pred, average = 'weighted'))\n",
    "\n",
    "clf = LogisticRegression(class_weight = 'balanced', random_state = 22, max_iter = 500)\n",
    "clf.fit(TF_TRAIN, train_label)\n",
    "test_pred = clf.predict(TF_TEST)\n",
    "print('Logistic Regression Accuracy:', clf.score(TF_TEST, test_label), '| F1 Score:', f1_score(test_label, test_pred, average = 'weighted'))"
   ]
  },
  {
   "cell_type": "code",
   "execution_count": 224,
   "metadata": {},
   "outputs": [
    {
     "data": {
      "text/plain": [
       "unrelated    52674\n",
       "agreed       22268\n",
       "disagreed     1981\n",
       "Name: label, dtype: int64"
      ]
     },
     "execution_count": 224,
     "metadata": {},
     "output_type": "execute_result"
    }
   ],
   "source": [
    "test_label.value_counts()"
   ]
  },
  {
   "cell_type": "code",
   "execution_count": 225,
   "metadata": {},
   "outputs": [
    {
     "name": "stdout",
     "output_type": "stream",
     "text": [
      "SVC Accuracy:: 0.7968097968097968 | F1 Score: 0.8001846169438543\n"
     ]
    }
   ],
   "source": [
    "clf = LinearSVC(class_weight = 'balanced', random_state = 22, max_iter = 1000)\n",
    "clf.fit(TF_TRAIN, train_label)\n",
    "test_pred = clf.predict(TF_TEST)\n",
    "print('SVC Accuracy::', clf.score(TF_TEST, test_label), '| F1 Score:', f1_score(test_label, test_pred, average = 'weighted'))"
   ]
  },
  {
   "cell_type": "code",
   "execution_count": 226,
   "metadata": {
    "scrolled": false
   },
   "outputs": [
    {
     "data": {
      "text/plain": [
       "Text(0.5, 1.0, 'Fake News')"
      ]
     },
     "execution_count": 226,
     "metadata": {},
     "output_type": "execute_result"
    },
    {
     "data": {
      "image/png": "[encoded data removed]",
      "text/plain": [
       "<Figure size 360x360 with 2 Axes>"
      ]
     },
     "metadata": {
      "needs_background": "light"
     },
     "output_type": "display_data"
    }
   ],
   "source": [
    "cfn_p = confusion_matrix(test_label, test_pred)\n",
    "\n",
    "fig, ax = plt.subplots(figsize=(5,5))\n",
    "seaborn.heatmap(cfn_p, annot = True, fmt = 'd', xticklabels = ['agreed', 'disagreed', 'unrelated'],\n",
    "               yticklabels = ['agreed', 'disagreed', 'unrelated'])\n",
    "plt.ylabel('Actual')\n",
    "plt.xlabel('Predicted')\n",
    "plt.title('Fake News')"
   ]
  },
  {
   "cell_type": "code",
   "execution_count": 240,
   "metadata": {},
   "outputs": [
    {
     "name": "stdout",
     "output_type": "stream",
     "text": [
      "SVC Accuracy:: 0.8729524819818414 | F1 Score: 0.8749574731559254\n"
     ]
    }
   ],
   "source": [
    "# Using all training data for submission\n",
    "title1_TRAIN = cv.fit_transform(TRAIN['title1'])\n",
    "title2_TRAIN = cv.fit_transform(TRAIN['title2'])\n",
    "title1_TRAIN_tf = tf.fit_transform(title1_TRAIN)\n",
    "title2_TRAIN_tf = tf.fit_transform(title2_TRAIN)\n",
    "TF_TRAIN = sparse.hstack([title1_TRAIN_tf, title2_TRAIN_tf])\n",
    "\n",
    "clf = LinearSVC(class_weight = 'balanced', random_state = 22, max_iter = 1000)\n",
    "clf.fit(TF_TRAIN, TRAIN_LABEL)\n",
    "train_pred = clf.predict(TF_TRAIN)\n",
    "print('SVC Accuracy::', clf.score(TF_TRAIN, TRAIN_LABEL), '| F1 Score:', f1_score(TRAIN_LABEL, train_pred, average = 'weighted'))"
   ]
  },
  {
   "cell_type": "code",
   "execution_count": 242,
   "metadata": {},
   "outputs": [
    {
     "data": {
      "text/plain": [
       "Text(0.5, 1.0, 'Fake News')"
      ]
     },
     "execution_count": 242,
     "metadata": {},
     "output_type": "execute_result"
    },
    {
     "data": {
      "image/png": "[encoded data removed]",
      "text/plain": [
       "<Figure size 360x360 with 2 Axes>"
      ]
     },
     "metadata": {
      "needs_background": "light"
     },
     "output_type": "display_data"
    }
   ],
   "source": [
    "cfn_p = confusion_matrix(TRAIN_LABEL, train_pred)\n",
    "\n",
    "fig, ax = plt.subplots(figsize=(5,5))\n",
    "seaborn.heatmap(cfn_p, annot = True, fmt = 'd', xticklabels = ['agreed', 'disagreed', 'unrelated'],\n",
    "               yticklabels = ['agreed', 'disagreed', 'unrelated'])\n",
    "plt.ylabel('Actual')\n",
    "plt.xlabel('Predicted')\n",
    "plt.title('Fake News')"
   ]
  },
  {
   "cell_type": "code",
   "execution_count": 243,
   "metadata": {},
   "outputs": [
    {
     "name": "stdout",
     "output_type": "stream",
     "text": [
      "['unrelated' 'unrelated' 'unrelated' ... 'agreed' 'unrelated' 'unrelated']\n"
     ]
    }
   ],
   "source": [
    "# Submission File\n",
    "title1_TEST = cv.fit_transform(TEST['title1'])\n",
    "title2_TEST = cv.fit_transform(TEST['title2'])\n",
    "title1_TEST_tf = tf.fit_transform(title1_TEST)\n",
    "title2_TEST_tf = tf.fit_transform(title2_TEST)\n",
    "TF_TEST = sparse.hstack([title1_TEST_tf, title2_TEST_tf])\n",
    "TEST_PRED = clf.predict(TF_TEST)\n",
    "TEST['label'] = TEST_PRED\n",
    "print(TEST_PRED)"
   ]
  },
  {
   "cell_type": "code",
   "execution_count": 244,
   "metadata": {},
   "outputs": [
    {
     "data": {
      "text/html": [
       "<div>\n",
       "<style scoped>\n",
       "    .dataframe tbody tr th:only-of-type {\n",
       "        vertical-align: middle;\n",
       "    }\n",
       "\n",
       "    .dataframe tbody tr th {\n",
       "        vertical-align: top;\n",
       "    }\n",
       "\n",
       "    .dataframe thead th {\n",
       "        text-align: right;\n",
       "    }\n",
       "</style>\n",
       "<table border=\"1\" class=\"dataframe\">\n",
       "  <thead>\n",
       "    <tr style=\"text-align: right;\">\n",
       "      <th></th>\n",
       "      <th>id</th>\n",
       "      <th>tid1</th>\n",
       "      <th>tid2</th>\n",
       "      <th>title1_en</th>\n",
       "      <th>title2_en</th>\n",
       "      <th>title1</th>\n",
       "      <th>title2</th>\n",
       "      <th>label</th>\n",
       "    </tr>\n",
       "  </thead>\n",
       "  <tbody>\n",
       "    <tr>\n",
       "      <th>0</th>\n",
       "      <td>256442</td>\n",
       "      <td>100672</td>\n",
       "      <td>100673</td>\n",
       "      <td>The great coat brother Zhu Zhu Wen, in the man...</td>\n",
       "      <td>Lin xinsheng after the birth of \"hard milking,...</td>\n",
       "      <td>the great coat brother zhu zhu wen in the mand...</td>\n",
       "      <td>lin xinsheng after the birth of hard milking h...</td>\n",
       "      <td>unrelated</td>\n",
       "    </tr>\n",
       "    <tr>\n",
       "      <th>1</th>\n",
       "      <td>256443</td>\n",
       "      <td>162269</td>\n",
       "      <td>162270</td>\n",
       "      <td>NASA reveals facts about UFO wreckage found on...</td>\n",
       "      <td>The UFO found in Yuancun, Jiaocheng County, Sh...</td>\n",
       "      <td>nasa reveals fact about ufo wreckage found on ...</td>\n",
       "      <td>the ufo found in yuancun jiaocheng county shan...</td>\n",
       "      <td>unrelated</td>\n",
       "    </tr>\n",
       "    <tr>\n",
       "      <th>2</th>\n",
       "      <td>256444</td>\n",
       "      <td>157826</td>\n",
       "      <td>157854</td>\n",
       "      <td>The hollow tomatoes are loaded with hormones.</td>\n",
       "      <td>Li chenfan bingbing home photos, netizen: this...</td>\n",
       "      <td>the hollow tomato are loaded with hormone</td>\n",
       "      <td>li chenfan bingbing home photo netizen this is...</td>\n",
       "      <td>unrelated</td>\n",
       "    </tr>\n",
       "    <tr>\n",
       "      <th>3</th>\n",
       "      <td>256445</td>\n",
       "      <td>109579</td>\n",
       "      <td>74076</td>\n",
       "      <td>Ange Pavilion Geoshui: How accurate is Matrimo...</td>\n",
       "      <td>Master one: the eight-character presumption of...</td>\n",
       "      <td>ange pavilion geoshui how accurate is matrimon...</td>\n",
       "      <td>master one the eight character presumption of ...</td>\n",
       "      <td>unrelated</td>\n",
       "    </tr>\n",
       "    <tr>\n",
       "      <th>4</th>\n",
       "      <td>256446</td>\n",
       "      <td>15068</td>\n",
       "      <td>15085</td>\n",
       "      <td>A 50-year-old bus-bus blows up an 8-year-old c...</td>\n",
       "      <td>&lt; i &gt; Joe Johnson's disgruntled timing and ord...</td>\n",
       "      <td>a 50 year old bus bus blow up an 8 year old ch...</td>\n",
       "      <td>i joe johnson disgruntled timing and order wa ...</td>\n",
       "      <td>unrelated</td>\n",
       "    </tr>\n",
       "    <tr>\n",
       "      <th>...</th>\n",
       "      <td>...</td>\n",
       "      <td>...</td>\n",
       "      <td>...</td>\n",
       "      <td>...</td>\n",
       "      <td>...</td>\n",
       "      <td>...</td>\n",
       "      <td>...</td>\n",
       "      <td>...</td>\n",
       "    </tr>\n",
       "    <tr>\n",
       "      <th>64105</th>\n",
       "      <td>320547</td>\n",
       "      <td>94862</td>\n",
       "      <td>94863</td>\n",
       "      <td>The lead content of domestic faucet exceeds th...</td>\n",
       "      <td>The multi-brand faucet is overtaxed, who is en...</td>\n",
       "      <td>the lead content of domestic faucet exceeds th...</td>\n",
       "      <td>the multi brand faucet is overtaxed who is end...</td>\n",
       "      <td>agreed</td>\n",
       "    </tr>\n",
       "    <tr>\n",
       "      <th>64106</th>\n",
       "      <td>320548</td>\n",
       "      <td>7451</td>\n",
       "      <td>7452</td>\n",
       "      <td>In 2018, the household registration system has...</td>\n",
       "      <td>In 2018, the household registration system wil...</td>\n",
       "      <td>in 2018 the household registration system ha c...</td>\n",
       "      <td>in 2018 the household registration system will...</td>\n",
       "      <td>unrelated</td>\n",
       "    </tr>\n",
       "    <tr>\n",
       "      <th>64107</th>\n",
       "      <td>320549</td>\n",
       "      <td>144163</td>\n",
       "      <td>144164</td>\n",
       "      <td>Onion can not be eaten with this, serious also...</td>\n",
       "      <td>Onion can not eat with this, serious also can ...</td>\n",
       "      <td>onion can not be eaten with this serious also ...</td>\n",
       "      <td>onion can not eat with this serious also can c...</td>\n",
       "      <td>agreed</td>\n",
       "    </tr>\n",
       "    <tr>\n",
       "      <th>64108</th>\n",
       "      <td>320550</td>\n",
       "      <td>96842</td>\n",
       "      <td>96856</td>\n",
       "      <td>Grass-root teacher salaries, the last increase...</td>\n",
       "      <td>Teachers wage reform, there will be these thre...</td>\n",
       "      <td>grass root teacher salary the last increase be...</td>\n",
       "      <td>teacher wage reform there will be these three ...</td>\n",
       "      <td>unrelated</td>\n",
       "    </tr>\n",
       "    <tr>\n",
       "      <th>64109</th>\n",
       "      <td>320551</td>\n",
       "      <td>137151</td>\n",
       "      <td>132243</td>\n",
       "      <td>Li Weijia Weeping, Crying, Drugs? Sick? See ho...</td>\n",
       "      <td>Li Weijia on the hot air, netizens: Li Weijia ...</td>\n",
       "      <td>li weijia weeping cry drug sick see how he res...</td>\n",
       "      <td>li weijia on the hot air netizens li weijia an...</td>\n",
       "      <td>unrelated</td>\n",
       "    </tr>\n",
       "  </tbody>\n",
       "</table>\n",
       "<p>64110 rows × 8 columns</p>\n",
       "</div>"
      ],
      "text/plain": [
       "           id    tid1    tid2  \\\n",
       "0      256442  100672  100673   \n",
       "1      256443  162269  162270   \n",
       "2      256444  157826  157854   \n",
       "3      256445  109579   74076   \n",
       "4      256446   15068   15085   \n",
       "...       ...     ...     ...   \n",
       "64105  320547   94862   94863   \n",
       "64106  320548    7451    7452   \n",
       "64107  320549  144163  144164   \n",
       "64108  320550   96842   96856   \n",
       "64109  320551  137151  132243   \n",
       "\n",
       "                                               title1_en  \\\n",
       "0      The great coat brother Zhu Zhu Wen, in the man...   \n",
       "1      NASA reveals facts about UFO wreckage found on...   \n",
       "2          The hollow tomatoes are loaded with hormones.   \n",
       "3      Ange Pavilion Geoshui: How accurate is Matrimo...   \n",
       "4      A 50-year-old bus-bus blows up an 8-year-old c...   \n",
       "...                                                  ...   \n",
       "64105  The lead content of domestic faucet exceeds th...   \n",
       "64106  In 2018, the household registration system has...   \n",
       "64107  Onion can not be eaten with this, serious also...   \n",
       "64108  Grass-root teacher salaries, the last increase...   \n",
       "64109  Li Weijia Weeping, Crying, Drugs? Sick? See ho...   \n",
       "\n",
       "                                               title2_en  \\\n",
       "0      Lin xinsheng after the birth of \"hard milking,...   \n",
       "1      The UFO found in Yuancun, Jiaocheng County, Sh...   \n",
       "2      Li chenfan bingbing home photos, netizen: this...   \n",
       "3      Master one: the eight-character presumption of...   \n",
       "4      < i > Joe Johnson's disgruntled timing and ord...   \n",
       "...                                                  ...   \n",
       "64105  The multi-brand faucet is overtaxed, who is en...   \n",
       "64106  In 2018, the household registration system wil...   \n",
       "64107  Onion can not eat with this, serious also can ...   \n",
       "64108  Teachers wage reform, there will be these thre...   \n",
       "64109  Li Weijia on the hot air, netizens: Li Weijia ...   \n",
       "\n",
       "                                                  title1  \\\n",
       "0      the great coat brother zhu zhu wen in the mand...   \n",
       "1      nasa reveals fact about ufo wreckage found on ...   \n",
       "2              the hollow tomato are loaded with hormone   \n",
       "3      ange pavilion geoshui how accurate is matrimon...   \n",
       "4      a 50 year old bus bus blow up an 8 year old ch...   \n",
       "...                                                  ...   \n",
       "64105  the lead content of domestic faucet exceeds th...   \n",
       "64106  in 2018 the household registration system ha c...   \n",
       "64107  onion can not be eaten with this serious also ...   \n",
       "64108  grass root teacher salary the last increase be...   \n",
       "64109  li weijia weeping cry drug sick see how he res...   \n",
       "\n",
       "                                                  title2      label  \n",
       "0      lin xinsheng after the birth of hard milking h...  unrelated  \n",
       "1      the ufo found in yuancun jiaocheng county shan...  unrelated  \n",
       "2      li chenfan bingbing home photo netizen this is...  unrelated  \n",
       "3      master one the eight character presumption of ...  unrelated  \n",
       "4      i joe johnson disgruntled timing and order wa ...  unrelated  \n",
       "...                                                  ...        ...  \n",
       "64105  the multi brand faucet is overtaxed who is end...     agreed  \n",
       "64106  in 2018 the household registration system will...  unrelated  \n",
       "64107  onion can not eat with this serious also can c...     agreed  \n",
       "64108  teacher wage reform there will be these three ...  unrelated  \n",
       "64109  li weijia on the hot air netizens li weijia an...  unrelated  \n",
       "\n",
       "[64110 rows x 8 columns]"
      ]
     },
     "execution_count": 244,
     "metadata": {},
     "output_type": "execute_result"
    }
   ],
   "source": [
    "TEST"
   ]
  },
  {
   "cell_type": "code",
   "execution_count": 245,
   "metadata": {},
   "outputs": [],
   "source": [
    "submission = TEST[['id', 'label']]\n",
    "submission.to_csv('submission.csv', index = False)"
   ]
  },
  {
   "cell_type": "markdown",
   "metadata": {},
   "source": [
    "### Out of memory\n",
    "\n",
    "Wanted to add more features to Bag of Words or tf-idf but I don't know a way to combine the features in a memory efficient way. The only way I know how to do it requires lots of memory like 50-70GB+.  "
   ]
  },
  {
   "cell_type": "markdown",
   "metadata": {},
   "source": [
    "#### Testing + Random Stuff"
   ]
  },
  {
   "cell_type": "code",
   "execution_count": 214,
   "metadata": {},
   "outputs": [
    {
     "ename": "MemoryError",
     "evalue": "Unable to allocate 3.75 GiB for an array with shape (1977685,) and data type <U509",
     "output_type": "error",
     "traceback": [
      "\u001b[1;31m---------------------------------------------------------------------------\u001b[0m",
      "\u001b[1;31mMemoryError\u001b[0m                               Traceback (most recent call last)",
      "\u001b[1;32m<ipython-input-214-2b37434d5758>\u001b[0m in \u001b[0;36m<module>\u001b[1;34m\u001b[0m\n\u001b[0;32m     21\u001b[0m     \u001b[0mfeat_chi2\u001b[0m \u001b[1;33m=\u001b[0m \u001b[0mchi2\u001b[0m\u001b[1;33m(\u001b[0m\u001b[0mfeatures\u001b[0m\u001b[1;33m,\u001b[0m \u001b[0mlabels\u001b[0m \u001b[1;33m==\u001b[0m \u001b[0mlb\u001b[0m\u001b[1;33m)\u001b[0m\u001b[1;33m\u001b[0m\u001b[1;33m\u001b[0m\u001b[0m\n\u001b[0;32m     22\u001b[0m     \u001b[0mindices\u001b[0m \u001b[1;33m=\u001b[0m \u001b[0mnp\u001b[0m\u001b[1;33m.\u001b[0m\u001b[0margsort\u001b[0m\u001b[1;33m(\u001b[0m\u001b[0mfeat_chi2\u001b[0m\u001b[1;33m[\u001b[0m\u001b[1;36m0\u001b[0m\u001b[1;33m]\u001b[0m\u001b[1;33m)\u001b[0m\u001b[1;33m\u001b[0m\u001b[1;33m\u001b[0m\u001b[0m\n\u001b[1;32m---> 23\u001b[1;33m     \u001b[0mfeature_names\u001b[0m \u001b[1;33m=\u001b[0m \u001b[0mnp\u001b[0m\u001b[1;33m.\u001b[0m\u001b[0marray\u001b[0m\u001b[1;33m(\u001b[0m\u001b[0mtfidf\u001b[0m\u001b[1;33m.\u001b[0m\u001b[0mget_feature_names\u001b[0m\u001b[1;33m(\u001b[0m\u001b[1;33m)\u001b[0m\u001b[1;33m)\u001b[0m\u001b[1;33m[\u001b[0m\u001b[0mindices\u001b[0m\u001b[1;33m]\u001b[0m\u001b[1;33m\u001b[0m\u001b[1;33m\u001b[0m\u001b[0m\n\u001b[0m\u001b[0;32m     24\u001b[0m     \u001b[0mbest_grams\u001b[0m\u001b[1;33m.\u001b[0m\u001b[0mextend\u001b[0m\u001b[1;33m(\u001b[0m\u001b[0mfeature_names\u001b[0m\u001b[1;33m[\u001b[0m\u001b[1;33m-\u001b[0m\u001b[1;36m20\u001b[0m\u001b[1;33m:\u001b[0m\u001b[1;33m]\u001b[0m\u001b[1;33m)\u001b[0m\u001b[1;33m\u001b[0m\u001b[1;33m\u001b[0m\u001b[0m\n\u001b[0;32m     25\u001b[0m     \u001b[1;31m#print(feature_names[-15:], '\\n')\u001b[0m\u001b[1;33m\u001b[0m\u001b[1;33m\u001b[0m\u001b[1;33m\u001b[0m\u001b[0m\n",
      "\u001b[1;31mMemoryError\u001b[0m: Unable to allocate 3.75 GiB for an array with shape (1977685,) and data type <U509"
     ]
    }
   ],
   "source": [
    "# tf-idf ngrams n > 1 and then find terms/word sequences most correlated with each stance using chi23\n",
    "# NGRAMS FOR TRAIN  - kinda like vocab\n",
    "\n",
    "tfidf = TfidfVectorizer(stop_words = 'english', ngram_range = (2,4))\n",
    "features = tfidf.fit_transform(TRAIN['title1'])\n",
    "labels = TRAIN_LABEL\n",
    "\n",
    "best_grams = []\n",
    "for lb in [0,1,2]:\n",
    "    feat_chi2 = chi2(features, labels == lb)\n",
    "    indices = np.argsort(feat_chi2[0])\n",
    "    feature_names = np.array(tfidf.get_feature_names())[indices]\n",
    "    best_grams.extend(feature_names[-20:])\n",
    "    #print(feature_names[-15:], '\\n')\n",
    "    \n",
    "tfidf = TfidfVectorizer(stop_words = 'english', ngram_range = (2,4))\n",
    "features = tfidf.fit_transform(TRAIN['title2'])\n",
    "labels = TRAIN_LABEL\n",
    "\n",
    "for lb in [0,1,2]:\n",
    "    feat_chi2 = chi2(features, labels == lb)\n",
    "    indices = np.argsort(feat_chi2[0])\n",
    "    feature_names = np.array(tfidf.get_feature_names())[indices]\n",
    "    best_grams.extend(feature_names[-20:])\n",
    "    #print(feature_names[-15:], '\\n')\n",
    "    \n",
    "print(best_grams, '\\n')"
   ]
  },
  {
   "cell_type": "code",
   "execution_count": 207,
   "metadata": {},
   "outputs": [
    {
     "data": {
      "text/plain": [
       "0.0"
      ]
     },
     "execution_count": 207,
     "metadata": {},
     "output_type": "execute_result"
    }
   ],
   "source": [
    "features[0,1]"
   ]
  },
  {
   "cell_type": "code",
   "execution_count": null,
   "metadata": {},
   "outputs": [],
   "source": []
  },
  {
   "cell_type": "code",
   "execution_count": 191,
   "metadata": {
    "scrolled": true
   },
   "outputs": [
    {
     "data": {
      "text/plain": [
       "array([[<179485x39387 sparse matrix of type '<class 'numpy.int64'>'\n",
       "\twith 2581459 stored elements in Compressed Sparse Row format>,\n",
       "        <179485x39387 sparse matrix of type '<class 'numpy.int64'>'\n",
       "\twith 2602735 stored elements in Compressed Sparse Row format>]],\n",
       "      dtype=object)"
      ]
     },
     "execution_count": 191,
     "metadata": {},
     "output_type": "execute_result"
    }
   ],
   "source": [
    "np.c_[title1_train, title2_train]"
   ]
  },
  {
   "cell_type": "code",
   "execution_count": 197,
   "metadata": {},
   "outputs": [
    {
     "name": "stderr",
     "output_type": "stream",
     "text": [
      "C:\\Users\\Gelo\\anaconda3\\lib\\site-packages\\scipy\\sparse\\_index.py:82: SparseEfficiencyWarning: Changing the sparsity structure of a csr_matrix is expensive. lil_matrix is more efficient.\n",
      "  self._set_intXint(row, col, x.flat[0])\n"
     ]
    }
   ],
   "source": [
    "t = title1_train[:]"
   ]
  },
  {
   "cell_type": "code",
   "execution_count": 179,
   "metadata": {},
   "outputs": [],
   "source": [
    "train_fe = TF_TRAIN.copy()\n",
    "test_fe = TF_TEST.copy()"
   ]
  },
  {
   "cell_type": "code",
   "execution_count": 180,
   "metadata": {},
   "outputs": [
    {
     "data": {
      "text/plain": [
       "<179485x78774 sparse matrix of type '<class 'numpy.float64'>'\n",
       "\twith 5184194 stored elements in COOrdinate format>"
      ]
     },
     "execution_count": 180,
     "metadata": {},
     "output_type": "execute_result"
    }
   ],
   "source": [
    "train_fe"
   ]
  },
  {
   "cell_type": "code",
   "execution_count": 186,
   "metadata": {},
   "outputs": [
    {
     "data": {
      "text/plain": [
       "<1x39387 sparse matrix of type '<class 'numpy.int64'>'\n",
       "\twith 15 stored elements in Compressed Sparse Row format>"
      ]
     },
     "execution_count": 186,
     "metadata": {},
     "output_type": "execute_result"
    }
   ],
   "source": [
    "title2_test[0]"
   ]
  },
  {
   "cell_type": "code",
   "execution_count": 188,
   "metadata": {},
   "outputs": [
    {
     "data": {
      "text/plain": [
       "0"
      ]
     },
     "execution_count": 188,
     "metadata": {},
     "output_type": "execute_result"
    }
   ],
   "source": [
    "title2_test[0, 39386]"
   ]
  },
  {
   "cell_type": "code",
   "execution_count": 200,
   "metadata": {},
   "outputs": [
    {
     "ename": "ValueError",
     "evalue": "blocks[0,:] has incompatible row dimensions. Got blocks[0,1].shape[0] == 1, expected 179485.",
     "output_type": "error",
     "traceback": [
      "\u001b[1;31m---------------------------------------------------------------------------\u001b[0m",
      "\u001b[1;31mValueError\u001b[0m                                Traceback (most recent call last)",
      "\u001b[1;32m<ipython-input-200-0b7dc105c8ff>\u001b[0m in \u001b[0;36m<module>\u001b[1;34m\u001b[0m\n\u001b[0;32m      9\u001b[0m     \u001b[0mcos_test\u001b[0m\u001b[1;33m.\u001b[0m\u001b[0mappend\u001b[0m\u001b[1;33m(\u001b[0m\u001b[1;36m1\u001b[0m\u001b[1;33m)\u001b[0m\u001b[1;33m\u001b[0m\u001b[1;33m\u001b[0m\u001b[0m\n\u001b[0;32m     10\u001b[0m \u001b[1;33m\u001b[0m\u001b[0m\n\u001b[1;32m---> 11\u001b[1;33m \u001b[0mtrain_fe\u001b[0m \u001b[1;33m=\u001b[0m \u001b[0msparse\u001b[0m\u001b[1;33m.\u001b[0m\u001b[0mhstack\u001b[0m\u001b[1;33m(\u001b[0m\u001b[1;33m[\u001b[0m\u001b[0mtrain_fe\u001b[0m\u001b[1;33m,\u001b[0m \u001b[0mcos_train\u001b[0m\u001b[1;33m]\u001b[0m\u001b[1;33m)\u001b[0m\u001b[1;33m\u001b[0m\u001b[1;33m\u001b[0m\u001b[0m\n\u001b[0m\u001b[0;32m     12\u001b[0m \u001b[0mtest_fe\u001b[0m \u001b[1;33m=\u001b[0m \u001b[0msparse\u001b[0m\u001b[1;33m.\u001b[0m\u001b[0mhstack\u001b[0m\u001b[1;33m(\u001b[0m\u001b[1;33m[\u001b[0m\u001b[0mtest_fe\u001b[0m\u001b[1;33m,\u001b[0m \u001b[0mcos_test\u001b[0m\u001b[1;33m]\u001b[0m\u001b[1;33m)\u001b[0m\u001b[1;33m\u001b[0m\u001b[1;33m\u001b[0m\u001b[0m\n",
      "\u001b[1;32m~\\anaconda3\\lib\\site-packages\\scipy\\sparse\\construct.py\u001b[0m in \u001b[0;36mhstack\u001b[1;34m(blocks, format, dtype)\u001b[0m\n\u001b[0;32m    465\u001b[0m \u001b[1;33m\u001b[0m\u001b[0m\n\u001b[0;32m    466\u001b[0m     \"\"\"\n\u001b[1;32m--> 467\u001b[1;33m     \u001b[1;32mreturn\u001b[0m \u001b[0mbmat\u001b[0m\u001b[1;33m(\u001b[0m\u001b[1;33m[\u001b[0m\u001b[0mblocks\u001b[0m\u001b[1;33m]\u001b[0m\u001b[1;33m,\u001b[0m \u001b[0mformat\u001b[0m\u001b[1;33m=\u001b[0m\u001b[0mformat\u001b[0m\u001b[1;33m,\u001b[0m \u001b[0mdtype\u001b[0m\u001b[1;33m=\u001b[0m\u001b[0mdtype\u001b[0m\u001b[1;33m)\u001b[0m\u001b[1;33m\u001b[0m\u001b[1;33m\u001b[0m\u001b[0m\n\u001b[0m\u001b[0;32m    468\u001b[0m \u001b[1;33m\u001b[0m\u001b[0m\n\u001b[0;32m    469\u001b[0m \u001b[1;33m\u001b[0m\u001b[0m\n",
      "\u001b[1;32m~\\anaconda3\\lib\\site-packages\\scipy\\sparse\\construct.py\u001b[0m in \u001b[0;36mbmat\u001b[1;34m(blocks, format, dtype)\u001b[0m\n\u001b[0;32m    586\u001b[0m                                                     \u001b[0mexp\u001b[0m\u001b[1;33m=\u001b[0m\u001b[0mbrow_lengths\u001b[0m\u001b[1;33m[\u001b[0m\u001b[0mi\u001b[0m\u001b[1;33m]\u001b[0m\u001b[1;33m,\u001b[0m\u001b[1;33m\u001b[0m\u001b[1;33m\u001b[0m\u001b[0m\n\u001b[0;32m    587\u001b[0m                                                     got=A.shape[0]))\n\u001b[1;32m--> 588\u001b[1;33m                     \u001b[1;32mraise\u001b[0m \u001b[0mValueError\u001b[0m\u001b[1;33m(\u001b[0m\u001b[0mmsg\u001b[0m\u001b[1;33m)\u001b[0m\u001b[1;33m\u001b[0m\u001b[1;33m\u001b[0m\u001b[0m\n\u001b[0m\u001b[0;32m    589\u001b[0m \u001b[1;33m\u001b[0m\u001b[0m\n\u001b[0;32m    590\u001b[0m                 \u001b[1;32mif\u001b[0m \u001b[0mbcol_lengths\u001b[0m\u001b[1;33m[\u001b[0m\u001b[0mj\u001b[0m\u001b[1;33m]\u001b[0m \u001b[1;33m==\u001b[0m \u001b[1;36m0\u001b[0m\u001b[1;33m:\u001b[0m\u001b[1;33m\u001b[0m\u001b[1;33m\u001b[0m\u001b[0m\n",
      "\u001b[1;31mValueError\u001b[0m: blocks[0,:] has incompatible row dimensions. Got blocks[0,1].shape[0] == 1, expected 179485."
     ]
    }
   ],
   "source": [
    "# similarity of sentences - cosine similarity\n",
    "cos_train = []\n",
    "cos_test = []\n",
    "for i in range(title1_train.shape[0]):\n",
    "    #cos.append(cosine_similarity(title1_train[i], title2_train[i])[0][0])\n",
    "    cos_train.append(1)\n",
    "for i in range(title1_test.shape[0]):\n",
    "    #cos.append(cosine_similarity(title1_test[i], title2_test[i])[0][0])\n",
    "    cos_test.append(1)\n",
    "\n",
    "train_fe = sparse.hstack([train_fe, cos_train])\n",
    "test_fe = sparse.hstack([test_fe, cos_test])"
   ]
  }
 ],
 "metadata": {
  "kernelspec": {
   "display_name": "Python 3",
   "language": "python",
   "name": "python3"
  },
  "language_info": {
   "codemirror_mode": {
    "name": "ipython",
    "version": 3
   },
   "file_extension": ".py",
   "mimetype": "text/x-python",
   "name": "python",
   "nbconvert_exporter": "python",
   "pygments_lexer": "ipython3",
   "version": "3.8.5"
  }
 },
 "nbformat": 4,
 "nbformat_minor": 4
}
